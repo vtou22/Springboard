{
 "cells": [
  {
   "cell_type": "code",
   "execution_count": 1,
   "metadata": {},
   "outputs": [],
   "source": [
    "import numpy as np\n",
    "import pandas as pd\n",
    "import matplotlib.pyplot as plt\n",
    "import seaborn as sns\n",
    "import os\n",
    "\n",
    "from library.sb_utils import save_file"
   ]
  },
  {
   "cell_type": "code",
   "execution_count": 2,
   "metadata": {},
   "outputs": [],
   "source": [
    "#Define function to plot CDF plots\n",
    "\n",
    "def cdf(x, plot=True,ylab='CDF', *args, **kwargs):\n",
    "    x, y = sorted(x), np.arange(len(x)) / len(x)\n",
    "    return plt.plot(x, y, *args, **kwargs)  if plot else (x, y), plt.ylabel('CDF')\n",
    "    \n",
    "    "
   ]
  },
  {
   "cell_type": "code",
   "execution_count": 3,
   "metadata": {},
   "outputs": [],
   "source": [
    "?plt.plot"
   ]
  },
  {
   "cell_type": "code",
   "execution_count": 4,
   "metadata": {},
   "outputs": [
    {
     "data": {
      "text/html": [
       "<div>\n",
       "<style scoped>\n",
       "    .dataframe tbody tr th:only-of-type {\n",
       "        vertical-align: middle;\n",
       "    }\n",
       "\n",
       "    .dataframe tbody tr th {\n",
       "        vertical-align: top;\n",
       "    }\n",
       "\n",
       "    .dataframe thead th {\n",
       "        text-align: right;\n",
       "    }\n",
       "</style>\n",
       "<table border=\"1\" class=\"dataframe\">\n",
       "  <thead>\n",
       "    <tr style=\"text-align: right;\">\n",
       "      <th></th>\n",
       "      <th>customerId</th>\n",
       "      <th>creditLimit</th>\n",
       "      <th>availableMoney</th>\n",
       "      <th>transactionDateTime</th>\n",
       "      <th>transactionAmount</th>\n",
       "      <th>merchantName</th>\n",
       "      <th>acqCountry</th>\n",
       "      <th>posEntryMode</th>\n",
       "      <th>posConditionCode</th>\n",
       "      <th>merchantCategoryCode</th>\n",
       "      <th>currentExpDate</th>\n",
       "      <th>accountOpenDate</th>\n",
       "      <th>dateOfLastAddressChange</th>\n",
       "      <th>cardLast4Digits</th>\n",
       "      <th>transactionType</th>\n",
       "      <th>currentBalance</th>\n",
       "      <th>cardPresent</th>\n",
       "      <th>expirationDateKeyInMatch</th>\n",
       "      <th>isFraud</th>\n",
       "      <th>Incorrect CVV Entered</th>\n",
       "    </tr>\n",
       "  </thead>\n",
       "  <tbody>\n",
       "    <tr>\n",
       "      <th>0</th>\n",
       "      <td>737265056</td>\n",
       "      <td>5000</td>\n",
       "      <td>5000.0</td>\n",
       "      <td>2016-08-13T14:27:32</td>\n",
       "      <td>98.55</td>\n",
       "      <td>Uber</td>\n",
       "      <td>US</td>\n",
       "      <td>2</td>\n",
       "      <td>1</td>\n",
       "      <td>rideshare</td>\n",
       "      <td>06/2023</td>\n",
       "      <td>2015-03-14</td>\n",
       "      <td>2015-03-14</td>\n",
       "      <td>1803</td>\n",
       "      <td>PURCHASE</td>\n",
       "      <td>0.0</td>\n",
       "      <td>0</td>\n",
       "      <td>0</td>\n",
       "      <td>0</td>\n",
       "      <td>0</td>\n",
       "    </tr>\n",
       "    <tr>\n",
       "      <th>1</th>\n",
       "      <td>737265056</td>\n",
       "      <td>5000</td>\n",
       "      <td>5000.0</td>\n",
       "      <td>2016-10-11T05:05:54</td>\n",
       "      <td>74.51</td>\n",
       "      <td>AMC #191138</td>\n",
       "      <td>US</td>\n",
       "      <td>9</td>\n",
       "      <td>1</td>\n",
       "      <td>entertainment</td>\n",
       "      <td>02/2024</td>\n",
       "      <td>2015-03-14</td>\n",
       "      <td>2015-03-14</td>\n",
       "      <td>767</td>\n",
       "      <td>PURCHASE</td>\n",
       "      <td>0.0</td>\n",
       "      <td>1</td>\n",
       "      <td>0</td>\n",
       "      <td>0</td>\n",
       "      <td>0</td>\n",
       "    </tr>\n",
       "    <tr>\n",
       "      <th>2</th>\n",
       "      <td>737265056</td>\n",
       "      <td>5000</td>\n",
       "      <td>5000.0</td>\n",
       "      <td>2016-11-08T09:18:39</td>\n",
       "      <td>7.47</td>\n",
       "      <td>Play Store</td>\n",
       "      <td>US</td>\n",
       "      <td>9</td>\n",
       "      <td>1</td>\n",
       "      <td>mobileapps</td>\n",
       "      <td>08/2025</td>\n",
       "      <td>2015-03-14</td>\n",
       "      <td>2015-03-14</td>\n",
       "      <td>767</td>\n",
       "      <td>PURCHASE</td>\n",
       "      <td>0.0</td>\n",
       "      <td>0</td>\n",
       "      <td>0</td>\n",
       "      <td>0</td>\n",
       "      <td>0</td>\n",
       "    </tr>\n",
       "    <tr>\n",
       "      <th>3</th>\n",
       "      <td>737265056</td>\n",
       "      <td>5000</td>\n",
       "      <td>5000.0</td>\n",
       "      <td>2016-12-10T02:14:50</td>\n",
       "      <td>7.47</td>\n",
       "      <td>Play Store</td>\n",
       "      <td>US</td>\n",
       "      <td>9</td>\n",
       "      <td>1</td>\n",
       "      <td>mobileapps</td>\n",
       "      <td>08/2025</td>\n",
       "      <td>2015-03-14</td>\n",
       "      <td>2015-03-14</td>\n",
       "      <td>767</td>\n",
       "      <td>PURCHASE</td>\n",
       "      <td>0.0</td>\n",
       "      <td>0</td>\n",
       "      <td>0</td>\n",
       "      <td>0</td>\n",
       "      <td>0</td>\n",
       "    </tr>\n",
       "    <tr>\n",
       "      <th>4</th>\n",
       "      <td>830329091</td>\n",
       "      <td>5000</td>\n",
       "      <td>5000.0</td>\n",
       "      <td>2016-03-24T21:04:46</td>\n",
       "      <td>71.18</td>\n",
       "      <td>Tim Hortons #947751</td>\n",
       "      <td>US</td>\n",
       "      <td>2</td>\n",
       "      <td>1</td>\n",
       "      <td>fastfood</td>\n",
       "      <td>10/2029</td>\n",
       "      <td>2015-08-06</td>\n",
       "      <td>2015-08-06</td>\n",
       "      <td>3143</td>\n",
       "      <td>PURCHASE</td>\n",
       "      <td>0.0</td>\n",
       "      <td>1</td>\n",
       "      <td>0</td>\n",
       "      <td>0</td>\n",
       "      <td>0</td>\n",
       "    </tr>\n",
       "  </tbody>\n",
       "</table>\n",
       "</div>"
      ],
      "text/plain": [
       "   customerId  creditLimit  availableMoney  transactionDateTime  \\\n",
       "0   737265056         5000          5000.0  2016-08-13T14:27:32   \n",
       "1   737265056         5000          5000.0  2016-10-11T05:05:54   \n",
       "2   737265056         5000          5000.0  2016-11-08T09:18:39   \n",
       "3   737265056         5000          5000.0  2016-12-10T02:14:50   \n",
       "4   830329091         5000          5000.0  2016-03-24T21:04:46   \n",
       "\n",
       "   transactionAmount         merchantName acqCountry  posEntryMode  \\\n",
       "0              98.55                 Uber         US             2   \n",
       "1              74.51          AMC #191138         US             9   \n",
       "2               7.47           Play Store         US             9   \n",
       "3               7.47           Play Store         US             9   \n",
       "4              71.18  Tim Hortons #947751         US             2   \n",
       "\n",
       "   posConditionCode merchantCategoryCode currentExpDate accountOpenDate  \\\n",
       "0                 1            rideshare        06/2023      2015-03-14   \n",
       "1                 1        entertainment        02/2024      2015-03-14   \n",
       "2                 1           mobileapps        08/2025      2015-03-14   \n",
       "3                 1           mobileapps        08/2025      2015-03-14   \n",
       "4                 1             fastfood        10/2029      2015-08-06   \n",
       "\n",
       "  dateOfLastAddressChange  cardLast4Digits transactionType  currentBalance  \\\n",
       "0              2015-03-14             1803        PURCHASE             0.0   \n",
       "1              2015-03-14              767        PURCHASE             0.0   \n",
       "2              2015-03-14              767        PURCHASE             0.0   \n",
       "3              2015-03-14              767        PURCHASE             0.0   \n",
       "4              2015-08-06             3143        PURCHASE             0.0   \n",
       "\n",
       "   cardPresent  expirationDateKeyInMatch  isFraud  Incorrect CVV Entered  \n",
       "0            0                         0        0                      0  \n",
       "1            1                         0        0                      0  \n",
       "2            0                         0        0                      0  \n",
       "3            0                         0        0                      0  \n",
       "4            1                         0        0                      0  "
      ]
     },
     "execution_count": 4,
     "metadata": {},
     "output_type": "execute_result"
    }
   ],
   "source": [
    "df= pd.read_csv('CC_fraud_cleaned.csv')\n",
    "df.head()"
   ]
  },
  {
   "cell_type": "code",
   "execution_count": 5,
   "metadata": {},
   "outputs": [
    {
     "name": "stdout",
     "output_type": "stream",
     "text": [
      "customerId                    4997\n",
      "creditLimit                     10\n",
      "availableMoney              517244\n",
      "transactionDateTime         767129\n",
      "transactionAmount            65850\n",
      "merchantName                  2489\n",
      "acqCountry                       4\n",
      "posEntryMode                     5\n",
      "posConditionCode                 3\n",
      "merchantCategoryCode            19\n",
      "currentExpDate                 165\n",
      "accountOpenDate               1818\n",
      "dateOfLastAddressChange       2182\n",
      "cardLast4Digits               5241\n",
      "transactionType                  3\n",
      "currentBalance              483267\n",
      "cardPresent                      2\n",
      "expirationDateKeyInMatch         2\n",
      "isFraud                          2\n",
      "Incorrect CVV Entered            2\n",
      "dtype: int64\n"
     ]
    }
   ],
   "source": [
    "print(df.nunique())"
   ]
  },
  {
   "cell_type": "markdown",
   "metadata": {},
   "source": [
    "## Look at merchantName and merchantCategoryCode "
   ]
  },
  {
   "cell_type": "code",
   "execution_count": 6,
   "metadata": {},
   "outputs": [
    {
     "data": {
      "text/html": [
       "<div>\n",
       "<style scoped>\n",
       "    .dataframe tbody tr th:only-of-type {\n",
       "        vertical-align: middle;\n",
       "    }\n",
       "\n",
       "    .dataframe tbody tr th {\n",
       "        vertical-align: top;\n",
       "    }\n",
       "\n",
       "    .dataframe thead th {\n",
       "        text-align: right;\n",
       "    }\n",
       "</style>\n",
       "<table border=\"1\" class=\"dataframe\">\n",
       "  <thead>\n",
       "    <tr style=\"text-align: right;\">\n",
       "      <th></th>\n",
       "      <th>merchantName</th>\n",
       "      <th>merchantCategoryCode</th>\n",
       "    </tr>\n",
       "  </thead>\n",
       "  <tbody>\n",
       "    <tr>\n",
       "      <th>0</th>\n",
       "      <td>Uber</td>\n",
       "      <td>rideshare</td>\n",
       "    </tr>\n",
       "    <tr>\n",
       "      <th>1</th>\n",
       "      <td>AMC #191138</td>\n",
       "      <td>entertainment</td>\n",
       "    </tr>\n",
       "    <tr>\n",
       "      <th>2</th>\n",
       "      <td>Play Store</td>\n",
       "      <td>mobileapps</td>\n",
       "    </tr>\n",
       "    <tr>\n",
       "      <th>3</th>\n",
       "      <td>Play Store</td>\n",
       "      <td>mobileapps</td>\n",
       "    </tr>\n",
       "    <tr>\n",
       "      <th>4</th>\n",
       "      <td>Tim Hortons #947751</td>\n",
       "      <td>fastfood</td>\n",
       "    </tr>\n",
       "    <tr>\n",
       "      <th>...</th>\n",
       "      <td>...</td>\n",
       "      <td>...</td>\n",
       "    </tr>\n",
       "    <tr>\n",
       "      <th>776608</th>\n",
       "      <td>Lyft</td>\n",
       "      <td>rideshare</td>\n",
       "    </tr>\n",
       "    <tr>\n",
       "      <th>776609</th>\n",
       "      <td>hulu.com</td>\n",
       "      <td>online_subscriptions</td>\n",
       "    </tr>\n",
       "    <tr>\n",
       "      <th>776610</th>\n",
       "      <td>Lyft</td>\n",
       "      <td>rideshare</td>\n",
       "    </tr>\n",
       "    <tr>\n",
       "      <th>776611</th>\n",
       "      <td>walmart.com</td>\n",
       "      <td>online_retail</td>\n",
       "    </tr>\n",
       "    <tr>\n",
       "      <th>776612</th>\n",
       "      <td>Uber</td>\n",
       "      <td>rideshare</td>\n",
       "    </tr>\n",
       "  </tbody>\n",
       "</table>\n",
       "<p>776613 rows × 2 columns</p>\n",
       "</div>"
      ],
      "text/plain": [
       "               merchantName  merchantCategoryCode\n",
       "0                      Uber             rideshare\n",
       "1               AMC #191138         entertainment\n",
       "2                Play Store            mobileapps\n",
       "3                Play Store            mobileapps\n",
       "4       Tim Hortons #947751              fastfood\n",
       "...                     ...                   ...\n",
       "776608                 Lyft             rideshare\n",
       "776609             hulu.com  online_subscriptions\n",
       "776610                 Lyft             rideshare\n",
       "776611          walmart.com         online_retail\n",
       "776612                 Uber             rideshare\n",
       "\n",
       "[776613 rows x 2 columns]"
      ]
     },
     "execution_count": 6,
     "metadata": {},
     "output_type": "execute_result"
    }
   ],
   "source": [
    "df[['merchantName','merchantCategoryCode']]"
   ]
  },
  {
   "cell_type": "code",
   "execution_count": 7,
   "metadata": {},
   "outputs": [],
   "source": [
    "'''since the 2,489 unique merchant names are already grouped by a merchant category code, it will be better to look at \n",
    "the 19 unique category codes instead.  Therefore, drop merchantName '''\n",
    "\n",
    "df=df.drop(columns=['merchantName'])"
   ]
  },
  {
   "cell_type": "code",
   "execution_count": 8,
   "metadata": {},
   "outputs": [],
   "source": [
    "#The card's last 4 digit and expiration date will also be of no use for our model, therefore drop it\n",
    "\n",
    "df=df.drop(columns = ['cardLast4Digits','currentExpDate'])"
   ]
  },
  {
   "cell_type": "code",
   "execution_count": 9,
   "metadata": {},
   "outputs": [
    {
     "name": "stdout",
     "output_type": "stream",
     "text": [
      "<class 'pandas.core.frame.DataFrame'>\n",
      "RangeIndex: 776613 entries, 0 to 776612\n",
      "Data columns (total 17 columns):\n",
      " #   Column                    Non-Null Count   Dtype  \n",
      "---  ------                    --------------   -----  \n",
      " 0   customerId                776613 non-null  int64  \n",
      " 1   creditLimit               776613 non-null  int64  \n",
      " 2   availableMoney            776613 non-null  float64\n",
      " 3   transactionDateTime       776613 non-null  object \n",
      " 4   transactionAmount         776613 non-null  float64\n",
      " 5   acqCountry                776613 non-null  object \n",
      " 6   posEntryMode              776613 non-null  int64  \n",
      " 7   posConditionCode          776613 non-null  int64  \n",
      " 8   merchantCategoryCode      776613 non-null  object \n",
      " 9   accountOpenDate           776613 non-null  object \n",
      " 10  dateOfLastAddressChange   776613 non-null  object \n",
      " 11  transactionType           776613 non-null  object \n",
      " 12  currentBalance            776613 non-null  float64\n",
      " 13  cardPresent               776613 non-null  int64  \n",
      " 14  expirationDateKeyInMatch  776613 non-null  int64  \n",
      " 15  isFraud                   776613 non-null  int64  \n",
      " 16  Incorrect CVV Entered     776613 non-null  int64  \n",
      "dtypes: float64(3), int64(8), object(6)\n",
      "memory usage: 100.7+ MB\n"
     ]
    }
   ],
   "source": [
    "df.info()"
   ]
  },
  {
   "cell_type": "code",
   "execution_count": 10,
   "metadata": {},
   "outputs": [],
   "source": [
    "#modify some data types\n",
    "\n",
    "df[['customerId','posEntryMode','posConditionCode']]=df[['customerId','posEntryMode','posConditionCode']].astype('object')\n",
    "\n",
    "df['transactionDateTime']=pd.to_datetime(df['transactionDateTime'])\n",
    "df['accountOpenDate']=pd.to_datetime(df['accountOpenDate'])\n",
    "df['dateOfLastAddressChange']=pd.to_datetime(df['dateOfLastAddressChange'])\n",
    "\n",
    "#create a day column that tells what day was the transaction\n",
    "\n",
    "df['Day']=df['transactionDateTime'].dt.day_name()"
   ]
  },
  {
   "cell_type": "code",
   "execution_count": 11,
   "metadata": {},
   "outputs": [
    {
     "name": "stdout",
     "output_type": "stream",
     "text": [
      "Fraud: (11966, 18) \n",
      "Normal: (764647, 18)\n"
     ]
    }
   ],
   "source": [
    "#create seperate data for fraud and normal activity\n",
    "\n",
    "\n",
    "fraud = df[df['isFraud']==1]\n",
    "normal = df[df['isFraud']==0]\n",
    "print('Fraud: '+format(fraud.shape),'\\nNormal: '+format(normal.shape))"
   ]
  },
  {
   "cell_type": "code",
   "execution_count": 12,
   "metadata": {},
   "outputs": [
    {
     "data": {
      "image/png": "[encoded data removed]",
      "text/plain": [
       "<Figure size 432x288 with 2 Axes>"
      ]
     },
     "metadata": {
      "needs_background": "light"
     },
     "output_type": "display_data"
    },
    {
     "data": {
      "text/plain": [
       "([<matplotlib.lines.Line2D at 0x1932042f9d0>], Text(0, 0.5, 'CDF'))"
      ]
     },
     "execution_count": 12,
     "metadata": {},
     "output_type": "execute_result"
    },
    {
     "data": {
      "image/png": "[encoded data removed]",
      "text/plain": [
       "<Figure size 432x288 with 1 Axes>"
      ]
     },
     "metadata": {
      "needs_background": "light"
     },
     "output_type": "display_data"
    }
   ],
   "source": [
    "#Distribution for credit limit for normal and fraud activity seems normal\n",
    "\n",
    "plt.subplot(2,1,1)\n",
    "plt.title('Normal -Credit Limit')\n",
    "plt.hist(normal['creditLimit'].values,color='k')\n",
    "\n",
    "plt.subplot(2,1,2)\n",
    "plt.hist(fraud['creditLimit'].values,color='r')\n",
    "\n",
    "plt.title('Fraud - Credit Limit')\n",
    "plt.xlabel('Amount')\n",
    "\n",
    "plt.tight_layout()\n",
    "plt.show()\n",
    "\n",
    "\n",
    "cdf(fraud.creditLimit,color='r')\n",
    "cdf(normal.creditLimit,color='k')"
   ]
  },
  {
   "cell_type": "code",
   "execution_count": 13,
   "metadata": {},
   "outputs": [
    {
     "data": {
      "image/png": "[encoded data removed]",
      "text/plain": [
       "<Figure size 432x288 with 2 Axes>"
      ]
     },
     "metadata": {
      "needs_background": "light"
     },
     "output_type": "display_data"
    },
    {
     "data": {
      "text/plain": [
       "([<matplotlib.lines.Line2D at 0x19320580c70>], Text(0, 0.5, 'CDF'))"
      ]
     },
     "execution_count": 13,
     "metadata": {},
     "output_type": "execute_result"
    },
    {
     "data": {
      "image/png": "[encoded data removed]",
      "text/plain": [
       "<Figure size 432x288 with 1 Axes>"
      ]
     },
     "metadata": {
      "needs_background": "light"
     },
     "output_type": "display_data"
    }
   ],
   "source": [
    "#Available money for both seems normal as well\n",
    "\n",
    "f, (ax1,ax2) = plt.subplots(2,1,sharex=True)\n",
    "f.suptitle('Available Money')\n",
    "\n",
    "\n",
    "ax1.hist(normal.availableMoney,bins = 30,color='k')\n",
    "ax1.set_title('Normal')\n",
    "ax2.hist(fraud.availableMoney,bins=30,color='r')\n",
    "ax2.set_title('Fraud')\n",
    "\n",
    "plt.show()\n",
    "\n",
    "cdf(fraud.availableMoney,color='r')\n",
    "cdf(normal.availableMoney,color='k')"
   ]
  },
  {
   "cell_type": "code",
   "execution_count": 14,
   "metadata": {},
   "outputs": [
    {
     "data": {
      "image/png": "[encoded data removed]",
      "text/plain": [
       "<Figure size 432x288 with 2 Axes>"
      ]
     },
     "metadata": {
      "needs_background": "light"
     },
     "output_type": "display_data"
    },
    {
     "data": {
      "text/plain": [
       "([<matplotlib.lines.Line2D at 0x193359f6700>], Text(0, 0.5, 'CDF'))"
      ]
     },
     "execution_count": 14,
     "metadata": {},
     "output_type": "execute_result"
    },
    {
     "data": {
      "image/png": "[encoded data removed]",
      "text/plain": [
       "<Figure size 432x288 with 1 Axes>"
      ]
     },
     "metadata": {
      "needs_background": "light"
     },
     "output_type": "display_data"
    }
   ],
   "source": [
    "#fraud transactions occur at higher amounts, which makes sense. \n",
    "\n",
    "f, (ax1,ax2) = plt.subplots(2,1,sharex=True)\n",
    "f.suptitle('Amount per transaction')\n",
    "plt.xlim(0,1000)\n",
    "\n",
    "\n",
    "ax1.hist(normal.transactionAmount,bins = 30,color='k')\n",
    "ax1.set_title('Normal')\n",
    "\n",
    "ax2.hist(fraud.transactionAmount,bins=30,color='r')\n",
    "ax2.set_title('Fraud')\n",
    "\n",
    "\n",
    "\n",
    "plt.show()\n",
    "\n",
    "\n",
    "cdf(fraud.transactionAmount,color='r')\n",
    "cdf(normal.transactionAmount,color='k')"
   ]
  },
  {
   "cell_type": "code",
   "execution_count": null,
   "metadata": {},
   "outputs": [],
   "source": []
  },
  {
   "cell_type": "code",
   "execution_count": 15,
   "metadata": {},
   "outputs": [
    {
     "name": "stdout",
     "output_type": "stream",
     "text": [
      "US     769599\n",
      "MEX      3089\n",
      "CAN      2395\n",
      "PR       1530\n",
      "Name: acqCountry, dtype: int64\n",
      "US     11826\n",
      "MEX       63\n",
      "CAN       51\n",
      "PR        26\n",
      "Name: acqCountry, dtype: int64\n"
     ]
    },
    {
     "data": {
      "image/png": "[encoded data removed]",
      "text/plain": [
       "<Figure size 432x288 with 1 Axes>"
      ]
     },
     "metadata": {
      "needs_background": "light"
     },
     "output_type": "display_data"
    }
   ],
   "source": [
    "#Almost all transactions were made in US\n",
    "\n",
    "sns.countplot(x='acqCountry',hue='isFraud',data=df)\n",
    "\n",
    "print(df.acqCountry.value_counts())\n",
    "\n",
    "print(fraud.acqCountry.value_counts())\n",
    "\n",
    "\n"
   ]
  },
  {
   "cell_type": "code",
   "execution_count": 16,
   "metadata": {},
   "outputs": [
    {
     "data": {
      "text/plain": [
       "5     312689\n",
       "9     234757\n",
       "2     194543\n",
       "90     19435\n",
       "80     15189\n",
       "Name: posEntryMode, dtype: int64"
      ]
     },
     "execution_count": 16,
     "metadata": {},
     "output_type": "execute_result"
    }
   ],
   "source": [
    "df.posEntryMode.value_counts()"
   ]
  },
  {
   "cell_type": "code",
   "execution_count": 17,
   "metadata": {},
   "outputs": [
    {
     "data": {
      "text/plain": [
       "1     621236\n",
       "8     147961\n",
       "99      7416\n",
       "Name: posConditionCode, dtype: int64"
      ]
     },
     "execution_count": 17,
     "metadata": {},
     "output_type": "execute_result"
    }
   ],
   "source": [
    "df.posConditionCode.value_counts()"
   ]
  },
  {
   "cell_type": "code",
   "execution_count": 18,
   "metadata": {},
   "outputs": [
    {
     "data": {
      "text/plain": [
       "online_retail    4761\n",
       "online_gifts     1534\n",
       "rideshare        1233\n",
       "fastfood         1031\n",
       "food              978\n",
       "entertainment     930\n",
       "airline           512\n",
       "auto              264\n",
       "hotels            241\n",
       "subscriptions     209\n",
       "furniture         102\n",
       "health             88\n",
       "personal care      83\n",
       "Name: merchantCategoryCode, dtype: int64"
      ]
     },
     "execution_count": 18,
     "metadata": {},
     "output_type": "execute_result"
    }
   ],
   "source": [
    "fraud.merchantCategoryCode.value_counts()"
   ]
  },
  {
   "cell_type": "code",
   "execution_count": 19,
   "metadata": {},
   "outputs": [
    {
     "data": {
      "image/png": "[encoded data removed]",
      "text/plain": [
       "<Figure size 432x288 with 2 Axes>"
      ]
     },
     "metadata": {
      "needs_background": "light"
     },
     "output_type": "display_data"
    }
   ],
   "source": [
    "#online retail, online gifts and rideshare has the more occurances of fraud\n",
    "#There are some merchant codes that don't have any fraud activity at all\n",
    "\n",
    "plt.subplot(2,1,1)\n",
    "sns.scatterplot(x=normal.merchantCategoryCode.value_counts().index,y=normal.merchantCategoryCode.value_counts(),color='k')\n",
    "plt.xticks(rotation=70)\n",
    "plt.title('Normal')\n",
    "plt.ylabel('Transaction Counts')\n",
    "\n",
    "plt.tight_layout()\n",
    "\n",
    "plt.subplot(2,1,2)\n",
    "sns.scatterplot(x=fraud.merchantCategoryCode.value_counts().index,y=fraud.merchantCategoryCode.value_counts(),color='r')\n",
    "plt.xticks(rotation=70)\n",
    "plt.title('Fraud')\n",
    "plt.ylabel('Transaction Counts')\n",
    "\n",
    "plt.show()"
   ]
  },
  {
   "cell_type": "code",
   "execution_count": 20,
   "metadata": {},
   "outputs": [
    {
     "name": "stdout",
     "output_type": "stream",
     "text": [
      "Merchant Codes where no fraud occured: ['mobileapps', 'food_delivery', 'gym', 'fuel', 'online_subscriptions', 'cable/phone']\n"
     ]
    }
   ],
   "source": [
    "No_fraud = []\n",
    "\n",
    "for i in df.merchantCategoryCode.unique():\n",
    "    if i not in fraud.merchantCategoryCode.unique():\n",
    "        No_fraud.append(i)\n",
    "\n",
    "print('Merchant Codes where no fraud occured: '+format(No_fraud))\n"
   ]
  },
  {
   "cell_type": "code",
   "execution_count": 21,
   "metadata": {},
   "outputs": [
    {
     "data": {
      "text/html": [
       "<div>\n",
       "<style scoped>\n",
       "    .dataframe tbody tr th:only-of-type {\n",
       "        vertical-align: middle;\n",
       "    }\n",
       "\n",
       "    .dataframe tbody tr th {\n",
       "        vertical-align: top;\n",
       "    }\n",
       "\n",
       "    .dataframe thead th {\n",
       "        text-align: right;\n",
       "    }\n",
       "</style>\n",
       "<table border=\"1\" class=\"dataframe\">\n",
       "  <thead>\n",
       "    <tr style=\"text-align: right;\">\n",
       "      <th></th>\n",
       "      <th>accountOpenDate</th>\n",
       "      <th>dateOfLastAddressChange</th>\n",
       "    </tr>\n",
       "  </thead>\n",
       "  <tbody>\n",
       "    <tr>\n",
       "      <th>0</th>\n",
       "      <td>2015-03-14</td>\n",
       "      <td>2015-03-14</td>\n",
       "    </tr>\n",
       "    <tr>\n",
       "      <th>1</th>\n",
       "      <td>2015-03-14</td>\n",
       "      <td>2015-03-14</td>\n",
       "    </tr>\n",
       "    <tr>\n",
       "      <th>2</th>\n",
       "      <td>2015-03-14</td>\n",
       "      <td>2015-03-14</td>\n",
       "    </tr>\n",
       "    <tr>\n",
       "      <th>3</th>\n",
       "      <td>2015-03-14</td>\n",
       "      <td>2015-03-14</td>\n",
       "    </tr>\n",
       "    <tr>\n",
       "      <th>4</th>\n",
       "      <td>2015-08-06</td>\n",
       "      <td>2015-08-06</td>\n",
       "    </tr>\n",
       "    <tr>\n",
       "      <th>...</th>\n",
       "      <td>...</td>\n",
       "      <td>...</td>\n",
       "    </tr>\n",
       "    <tr>\n",
       "      <th>776608</th>\n",
       "      <td>2012-08-23</td>\n",
       "      <td>2012-08-23</td>\n",
       "    </tr>\n",
       "    <tr>\n",
       "      <th>776609</th>\n",
       "      <td>2012-08-23</td>\n",
       "      <td>2012-08-23</td>\n",
       "    </tr>\n",
       "    <tr>\n",
       "      <th>776610</th>\n",
       "      <td>2012-08-23</td>\n",
       "      <td>2012-08-23</td>\n",
       "    </tr>\n",
       "    <tr>\n",
       "      <th>776611</th>\n",
       "      <td>2012-08-23</td>\n",
       "      <td>2012-08-23</td>\n",
       "    </tr>\n",
       "    <tr>\n",
       "      <th>776612</th>\n",
       "      <td>2012-08-23</td>\n",
       "      <td>2012-08-23</td>\n",
       "    </tr>\n",
       "  </tbody>\n",
       "</table>\n",
       "<p>776613 rows × 2 columns</p>\n",
       "</div>"
      ],
      "text/plain": [
       "       accountOpenDate dateOfLastAddressChange\n",
       "0           2015-03-14              2015-03-14\n",
       "1           2015-03-14              2015-03-14\n",
       "2           2015-03-14              2015-03-14\n",
       "3           2015-03-14              2015-03-14\n",
       "4           2015-08-06              2015-08-06\n",
       "...                ...                     ...\n",
       "776608      2012-08-23              2012-08-23\n",
       "776609      2012-08-23              2012-08-23\n",
       "776610      2012-08-23              2012-08-23\n",
       "776611      2012-08-23              2012-08-23\n",
       "776612      2012-08-23              2012-08-23\n",
       "\n",
       "[776613 rows x 2 columns]"
      ]
     },
     "execution_count": 21,
     "metadata": {},
     "output_type": "execute_result"
    }
   ],
   "source": [
    "#look at accountOpenDate, and dateOfLastAddressChange\n",
    "\n",
    "df[['accountOpenDate','dateOfLastAddressChange']]\n"
   ]
  },
  {
   "cell_type": "markdown",
   "metadata": {},
   "source": [
    "It seems like fraudulent activity has a 3.4% higher rate of changing their address at least once"
   ]
  },
  {
   "cell_type": "code",
   "execution_count": 22,
   "metadata": {},
   "outputs": [
    {
     "name": "stdout",
     "output_type": "stream",
     "text": [
      "Rate of address changes in normal activity : 0.525\n"
     ]
    }
   ],
   "source": [
    "normal_changed_address = normal[normal.accountOpenDate!=normal.dateOfLastAddressChange]\n",
    "\n",
    "normal_changed_address_ratio = len(normal_changed_address)/len(normal)\n",
    "\n",
    "print('Rate of address changes in normal activity : '+format(round(normal_changed_address_ratio,3)))"
   ]
  },
  {
   "cell_type": "code",
   "execution_count": 23,
   "metadata": {},
   "outputs": [
    {
     "name": "stdout",
     "output_type": "stream",
     "text": [
      "Rate of address changes in fraud activity : 0.559\n"
     ]
    }
   ],
   "source": [
    "fraud_changed_address = fraud[fraud.accountOpenDate!=fraud.dateOfLastAddressChange] \n",
    "\n",
    "fraud_changed_address_ratio = len(fraud_changed_address)/len(fraud)\n",
    "\n",
    "print('Rate of address changes in fraud activity : '+format(round(fraud_changed_address_ratio,3)))"
   ]
  },
  {
   "cell_type": "code",
   "execution_count": 24,
   "metadata": {},
   "outputs": [],
   "source": [
    "#create a new column indictating if address was changed since opening the account\n",
    "#1 for changed, 0 for unchanged\n",
    "\n",
    "df['changedAddress'] = np.where(df.accountOpenDate!=df.dateOfLastAddressChange,1,0)\n"
   ]
  },
  {
   "cell_type": "markdown",
   "metadata": {},
   "source": [
    "When looking at the time between transaction and account open date, the stats between fraudulent and nonfraudulent activities are very similar.  "
   ]
  },
  {
   "cell_type": "code",
   "execution_count": 25,
   "metadata": {},
   "outputs": [],
   "source": [
    "df2=df.copy()"
   ]
  },
  {
   "cell_type": "code",
   "execution_count": 26,
   "metadata": {},
   "outputs": [],
   "source": [
    "df2['between'] = df2.transactionDateTime - df2.accountOpenDate"
   ]
  },
  {
   "cell_type": "code",
   "execution_count": 27,
   "metadata": {},
   "outputs": [
    {
     "data": {
      "text/html": [
       "<div>\n",
       "<style scoped>\n",
       "    .dataframe tbody tr th:only-of-type {\n",
       "        vertical-align: middle;\n",
       "    }\n",
       "\n",
       "    .dataframe tbody tr th {\n",
       "        vertical-align: top;\n",
       "    }\n",
       "\n",
       "    .dataframe thead th {\n",
       "        text-align: right;\n",
       "    }\n",
       "</style>\n",
       "<table border=\"1\" class=\"dataframe\">\n",
       "  <thead>\n",
       "    <tr style=\"text-align: right;\">\n",
       "      <th></th>\n",
       "      <th>between_fraud</th>\n",
       "      <th>between_normal</th>\n",
       "    </tr>\n",
       "  </thead>\n",
       "  <tbody>\n",
       "    <tr>\n",
       "      <th>count</th>\n",
       "      <td>11966</td>\n",
       "      <td>764647</td>\n",
       "    </tr>\n",
       "    <tr>\n",
       "      <th>mean</th>\n",
       "      <td>852 days 03:14:50.595102</td>\n",
       "      <td>884 days 16:08:34.602840</td>\n",
       "    </tr>\n",
       "    <tr>\n",
       "      <th>std</th>\n",
       "      <td>680 days 03:58:17.762166</td>\n",
       "      <td>697 days 20:57:18.441589</td>\n",
       "    </tr>\n",
       "    <tr>\n",
       "      <th>min</th>\n",
       "      <td>12 days 14:09:28</td>\n",
       "      <td>1 days 03:52:10</td>\n",
       "    </tr>\n",
       "    <tr>\n",
       "      <th>25%</th>\n",
       "      <td>426 days 19:09:55</td>\n",
       "      <td>430 days 07:45:46.500000</td>\n",
       "    </tr>\n",
       "    <tr>\n",
       "      <th>50%</th>\n",
       "      <td>666 days 13:13:09.500000</td>\n",
       "      <td>680 days 14:44:00</td>\n",
       "    </tr>\n",
       "    <tr>\n",
       "      <th>75%</th>\n",
       "      <td>1007 days 23:58:07.250000</td>\n",
       "      <td>1110 days 23:52:52</td>\n",
       "    </tr>\n",
       "    <tr>\n",
       "      <th>max</th>\n",
       "      <td>9890 days 04:09:32</td>\n",
       "      <td>9990 days 11:12:02</td>\n",
       "    </tr>\n",
       "  </tbody>\n",
       "</table>\n",
       "</div>"
      ],
      "text/plain": [
       "                   between_fraud            between_normal\n",
       "count                      11966                    764647\n",
       "mean    852 days 03:14:50.595102  884 days 16:08:34.602840\n",
       "std     680 days 03:58:17.762166  697 days 20:57:18.441589\n",
       "min             12 days 14:09:28           1 days 03:52:10\n",
       "25%            426 days 19:09:55  430 days 07:45:46.500000\n",
       "50%     666 days 13:13:09.500000         680 days 14:44:00\n",
       "75%    1007 days 23:58:07.250000        1110 days 23:52:52\n",
       "max           9890 days 04:09:32        9990 days 11:12:02"
      ]
     },
     "execution_count": 27,
     "metadata": {},
     "output_type": "execute_result"
    }
   ],
   "source": [
    "df2[df2['isFraud']==1].between.describe().to_frame().join(df2[df2['isFraud']==0].between.describe().to_frame(),lsuffix=\"_fraud\", rsuffix=\"_normal\")"
   ]
  },
  {
   "cell_type": "code",
   "execution_count": 28,
   "metadata": {},
   "outputs": [],
   "source": [
    "df2['between_change'] = df2.dateOfLastAddressChange - df2.accountOpenDate\n"
   ]
  },
  {
   "cell_type": "code",
   "execution_count": 29,
   "metadata": {},
   "outputs": [],
   "source": [
    "#Not much more can be used for our model, so dropping these two columns\n",
    "\n",
    "df = df.drop(columns = ['accountOpenDate','dateOfLastAddressChange'])"
   ]
  },
  {
   "cell_type": "markdown",
   "metadata": {},
   "source": [
    "The ratio of address verification transaction types in fraudulent activities is significantly lower than for those in normal transactions.  Reversal in normal is about 2.7 times more than the rate in fraud"
   ]
  },
  {
   "cell_type": "code",
   "execution_count": 30,
   "metadata": {},
   "outputs": [
    {
     "data": {
      "text/html": [
       "<div>\n",
       "<style scoped>\n",
       "    .dataframe tbody tr th:only-of-type {\n",
       "        vertical-align: middle;\n",
       "    }\n",
       "\n",
       "    .dataframe tbody tr th {\n",
       "        vertical-align: top;\n",
       "    }\n",
       "\n",
       "    .dataframe thead th {\n",
       "        text-align: right;\n",
       "    }\n",
       "</style>\n",
       "<table border=\"1\" class=\"dataframe\">\n",
       "  <thead>\n",
       "    <tr style=\"text-align: right;\">\n",
       "      <th></th>\n",
       "      <th>amount</th>\n",
       "      <th>ratio</th>\n",
       "    </tr>\n",
       "  </thead>\n",
       "  <tbody>\n",
       "    <tr>\n",
       "      <th>PURCHASE</th>\n",
       "      <td>725059</td>\n",
       "      <td>0.948227</td>\n",
       "    </tr>\n",
       "    <tr>\n",
       "      <th>ADDRESS_VERIFICATION</th>\n",
       "      <td>19853</td>\n",
       "      <td>0.025964</td>\n",
       "    </tr>\n",
       "    <tr>\n",
       "      <th>REVERSAL</th>\n",
       "      <td>19735</td>\n",
       "      <td>0.025809</td>\n",
       "    </tr>\n",
       "  </tbody>\n",
       "</table>\n",
       "</div>"
      ],
      "text/plain": [
       "                      amount     ratio\n",
       "PURCHASE              725059  0.948227\n",
       "ADDRESS_VERIFICATION   19853  0.025964\n",
       "REVERSAL               19735  0.025809"
      ]
     },
     "execution_count": 30,
     "metadata": {},
     "output_type": "execute_result"
    }
   ],
   "source": [
    "pd.DataFrame({'amount':normal.transactionType.value_counts(),'ratio':normal.transactionType.value_counts()/len(normal)})"
   ]
  },
  {
   "cell_type": "code",
   "execution_count": 31,
   "metadata": {},
   "outputs": [
    {
     "data": {
      "text/html": [
       "<div>\n",
       "<style scoped>\n",
       "    .dataframe tbody tr th:only-of-type {\n",
       "        vertical-align: middle;\n",
       "    }\n",
       "\n",
       "    .dataframe tbody tr th {\n",
       "        vertical-align: top;\n",
       "    }\n",
       "\n",
       "    .dataframe thead th {\n",
       "        text-align: right;\n",
       "    }\n",
       "</style>\n",
       "<table border=\"1\" class=\"dataframe\">\n",
       "  <thead>\n",
       "    <tr style=\"text-align: right;\">\n",
       "      <th></th>\n",
       "      <th>amount</th>\n",
       "      <th>ratio</th>\n",
       "    </tr>\n",
       "  </thead>\n",
       "  <tbody>\n",
       "    <tr>\n",
       "      <th>PURCHASE</th>\n",
       "      <td>11528</td>\n",
       "      <td>0.963396</td>\n",
       "    </tr>\n",
       "    <tr>\n",
       "      <th>REVERSAL</th>\n",
       "      <td>324</td>\n",
       "      <td>0.027077</td>\n",
       "    </tr>\n",
       "    <tr>\n",
       "      <th>ADDRESS_VERIFICATION</th>\n",
       "      <td>114</td>\n",
       "      <td>0.009527</td>\n",
       "    </tr>\n",
       "  </tbody>\n",
       "</table>\n",
       "</div>"
      ],
      "text/plain": [
       "                      amount     ratio\n",
       "PURCHASE               11528  0.963396\n",
       "REVERSAL                 324  0.027077\n",
       "ADDRESS_VERIFICATION     114  0.009527"
      ]
     },
     "execution_count": 31,
     "metadata": {},
     "output_type": "execute_result"
    }
   ],
   "source": [
    "pd.DataFrame({'amount':fraud.transactionType.value_counts(),'ratio':fraud.transactionType.value_counts()/len(fraud)})"
   ]
  },
  {
   "cell_type": "code",
   "execution_count": 32,
   "metadata": {},
   "outputs": [
    {
     "data": {
      "text/plain": [
       "<matplotlib.axes._subplots.AxesSubplot at 0x19334fca7c0>"
      ]
     },
     "execution_count": 32,
     "metadata": {},
     "output_type": "execute_result"
    },
    {
     "data": {
      "image/png": "[encoded data removed]",
      "text/plain": [
       "<Figure size 432x288 with 2 Axes>"
      ]
     },
     "metadata": {
      "needs_background": "light"
     },
     "output_type": "display_data"
    }
   ],
   "source": [
    "sns.heatmap(df.corr(),cmap='RdYlGn')"
   ]
  },
  {
   "cell_type": "code",
   "execution_count": null,
   "metadata": {},
   "outputs": [],
   "source": []
  },
  {
   "cell_type": "code",
   "execution_count": 33,
   "metadata": {},
   "outputs": [],
   "source": [
    "#look at transaction amount againts time"
   ]
  },
  {
   "cell_type": "code",
   "execution_count": 34,
   "metadata": {},
   "outputs": [],
   "source": [
    "df_t = df.set_index('transactionDateTime').sort_index()"
   ]
  },
  {
   "cell_type": "code",
   "execution_count": 35,
   "metadata": {},
   "outputs": [
    {
     "data": {
      "text/plain": [
       "Text(0.5, 0, 'Time')"
      ]
     },
     "execution_count": 35,
     "metadata": {},
     "output_type": "execute_result"
    },
    {
     "data": {
      "image/png": "[encoded data removed]",
      "text/plain": [
       "<Figure size 432x288 with 1 Axes>"
      ]
     },
     "metadata": {
      "needs_background": "light"
     },
     "output_type": "display_data"
    }
   ],
   "source": [
    "\n",
    "\n",
    "plt.plot(df_t.index,'transactionAmount',data=df_t)\n",
    "plt.title('Transaction Amount by Time in all data')\n",
    "plt.ylabel('Amount in $')\n",
    "plt.xlabel('Time')"
   ]
  },
  {
   "cell_type": "code",
   "execution_count": 36,
   "metadata": {},
   "outputs": [
    {
     "data": {
      "text/plain": [
       "Text(0.5, 0, 'Time')"
      ]
     },
     "execution_count": 36,
     "metadata": {},
     "output_type": "execute_result"
    },
    {
     "data": {
      "image/png": "[encoded data removed]",
      "text/plain": [
       "<Figure size 432x288 with 1 Axes>"
      ]
     },
     "metadata": {
      "needs_background": "light"
     },
     "output_type": "display_data"
    }
   ],
   "source": [
    "plt.hist(df_t[df_t['isFraud']==1].index,bins=365)\n",
    "plt.title('Transaction Amount by Time in fraud')\n",
    "plt.ylabel('Number of Transactions')\n",
    "plt.xlabel('Time')\n",
    "\n"
   ]
  },
  {
   "cell_type": "code",
   "execution_count": 37,
   "metadata": {},
   "outputs": [],
   "source": [
    "days=['Monday','Tuesday','Wednesday','Thursday','Friday','Saturday','Sunday']\n",
    "df['Day'] = pd.Categorical(df['Day'], categories=days, ordered=True)\n",
    "\n",
    "\n",
    "df2=df.copy()\n",
    "df2 = df2.sort_values('Day')"
   ]
  },
  {
   "cell_type": "code",
   "execution_count": 38,
   "metadata": {},
   "outputs": [],
   "source": [
    "fraud2 = df2[df2['isFraud']==1]\n",
    "normal2 = df2[df2['isFraud']==0]\n",
    "\n"
   ]
  },
  {
   "cell_type": "code",
   "execution_count": 39,
   "metadata": {},
   "outputs": [
    {
     "data": {
      "image/png": "[encoded data removed]",
      "text/plain": [
       "<Figure size 432x288 with 1 Axes>"
      ]
     },
     "metadata": {
      "needs_background": "light"
     },
     "output_type": "display_data"
    }
   ],
   "source": [
    "#Tuesday and Friday has the highest transaction amount with Sunday having the least\n",
    "\n",
    "fig, ax = plt.subplots()\n",
    "ax.bar(fraud2.Day,fraud2.transactionAmount,width=.5)    # interpret the x-axis values as dates\n",
    "fig.autofmt_xdate() # make space for and rotate the x-axis tick labels\n",
    "plt.title('Transactions by Day')\n",
    "plt.ylabel('Amount')\n",
    "\n",
    "  \n",
    "ax.grid(b = True, color ='grey', \n",
    "        linestyle ='-.', linewidth = 0.5) \n",
    "\n",
    "\n",
    "plt.show()"
   ]
  },
  {
   "cell_type": "code",
   "execution_count": 41,
   "metadata": {},
   "outputs": [
    {
     "data": {
      "image/png": "[encoded data removed]",
      "text/plain": [
       "<Figure size 432x288 with 1 Axes>"
      ]
     },
     "metadata": {
      "needs_background": "light"
     },
     "output_type": "display_data"
    }
   ],
   "source": [
    "#Most fraud activities are happening around noon\n",
    "\n",
    "\n",
    "plt.hist(fraud.transactionDateTime.dt.hour,bins=24)\n",
    "plt.title('Fraud by Hour')\n",
    "plt.xlabel('Hour')\n",
    "plt.ylabel('Number of Transactions')\n",
    "plt.show()\n",
    "\n"
   ]
  },
  {
   "cell_type": "code",
   "execution_count": 42,
   "metadata": {},
   "outputs": [
    {
     "name": "stdout",
     "output_type": "stream",
     "text": [
      "<class 'pandas.core.frame.DataFrame'>\n",
      "RangeIndex: 776613 entries, 0 to 776612\n",
      "Data columns (total 17 columns):\n",
      " #   Column                    Non-Null Count   Dtype         \n",
      "---  ------                    --------------   -----         \n",
      " 0   customerId                776613 non-null  object        \n",
      " 1   creditLimit               776613 non-null  int64         \n",
      " 2   availableMoney            776613 non-null  float64       \n",
      " 3   transactionDateTime       776613 non-null  datetime64[ns]\n",
      " 4   transactionAmount         776613 non-null  float64       \n",
      " 5   acqCountry                776613 non-null  object        \n",
      " 6   posEntryMode              776613 non-null  object        \n",
      " 7   posConditionCode          776613 non-null  object        \n",
      " 8   merchantCategoryCode      776613 non-null  object        \n",
      " 9   transactionType           776613 non-null  object        \n",
      " 10  currentBalance            776613 non-null  float64       \n",
      " 11  cardPresent               776613 non-null  int64         \n",
      " 12  expirationDateKeyInMatch  776613 non-null  int64         \n",
      " 13  isFraud                   776613 non-null  int64         \n",
      " 14  Incorrect CVV Entered     776613 non-null  int64         \n",
      " 15  Day                       776613 non-null  category      \n",
      " 16  changedAddress            776613 non-null  int32         \n",
      "dtypes: category(1), datetime64[ns](1), float64(3), int32(1), int64(5), object(6)\n",
      "memory usage: 92.6+ MB\n"
     ]
    }
   ],
   "source": [
    "df.info()"
   ]
  },
  {
   "cell_type": "code",
   "execution_count": 43,
   "metadata": {},
   "outputs": [
    {
     "data": {
      "text/plain": [
       "acqCountry               4\n",
       "posEntryMode             5\n",
       "posConditionCode         3\n",
       "merchantCategoryCode    19\n",
       "transactionType          3\n",
       "Day                      7\n",
       "dtype: int64"
      ]
     },
     "execution_count": 43,
     "metadata": {},
     "output_type": "execute_result"
    }
   ],
   "source": [
    "df[['acqCountry' , 'posEntryMode' , 'posConditionCode' , 'merchantCategoryCode' , 'transactionType' , 'Day']].nunique()"
   ]
  },
  {
   "cell_type": "markdown",
   "metadata": {},
   "source": [
    "the next step would be to get dummy variables for object and category columns ['acqCountry' , 'posEntryMode' , 'posConditionCode' , 'merchantCategoryCode' , 'transactionType' , 'Day']\n",
    "\n",
    "I will also drop customerId"
   ]
  },
  {
   "cell_type": "code",
   "execution_count": 44,
   "metadata": {},
   "outputs": [
    {
     "name": "stdout",
     "output_type": "stream",
     "text": [
      "A file already exists with this name.\n",
      "\n",
      "Do you want to overwrite? (Y/N)N\n",
      "\n",
      "Please re-run this cell with a new filename.\n"
     ]
    }
   ],
   "source": [
    "datapath = '../Springboard'\n",
    "save_file(df, 'CC_fraud_EDA.csv', datapath)"
   ]
  }
 ],
 "metadata": {
  "kernelspec": {
   "display_name": "Python 3",
   "language": "python",
   "name": "python3"
  },
  "language_info": {
   "codemirror_mode": {
    "name": "ipython",
    "version": 3
   },
   "file_extension": ".py",
   "mimetype": "text/x-python",
   "name": "python",
   "nbconvert_exporter": "python",
   "pygments_lexer": "ipython3",
   "version": "3.8.3"
  }
 },
 "nbformat": 4,
 "nbformat_minor": 4
}
